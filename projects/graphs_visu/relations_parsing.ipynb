{
 "cells": [
  {
   "cell_type": "code",
   "execution_count": 76,
   "metadata": {},
   "outputs": [],
   "source": [
    "%matplotlib inline\n",
    "\n",
    "import pandas as pd\n",
    "import numpy as np\n",
    "import time\n",
    "import networkx as nx\n"
   ]
  },
  {
   "cell_type": "code",
   "execution_count": 19,
   "metadata": {},
   "outputs": [],
   "source": [
    "relation_1_size = 1607368\n",
    "relation_2_size = 9361221\n",
    "relation_3_size = 139379918\n"
   ]
  },
  {
   "cell_type": "code",
   "execution_count": 18,
   "metadata": {},
   "outputs": [],
   "source": [
    "relations_df= pd.read_csv('data/relations.csv',iterator=True,delimiter='\\t', names=['day', 'time_ms', 'src', 'dst', 'relation'], chunksize=20000)"
   ]
  },
  {
   "cell_type": "code",
   "execution_count": 14,
   "metadata": {},
   "outputs": [],
   "source": [
    "relations = []\n",
    "relations.append(pd.concat([chunk[chunk['relation'] == 1] for chunk in relations_df]))"
   ]
  },
  {
   "cell_type": "code",
   "execution_count": 16,
   "metadata": {},
   "outputs": [],
   "source": [
    "relations[0].to_csv('data/relation_1.csv')"
   ]
  },
  {
   "cell_type": "code",
   "execution_count": 19,
   "metadata": {},
   "outputs": [],
   "source": [
    "relations.append(pd.concat([chunk[chunk['relation'] == 2] for chunk in relations_df]))"
   ]
  },
  {
   "cell_type": "code",
   "execution_count": 20,
   "metadata": {},
   "outputs": [],
   "source": [
    "relations[1].to_csv('data/relation_2.csv')"
   ]
  },
  {
   "cell_type": "code",
   "execution_count": 4,
   "metadata": {},
   "outputs": [
    {
     "name": "stdout",
     "output_type": "stream",
     "text": [
      "start\n",
      "chunks retrieved with succes\n",
      "relation retrieved with success\n"
     ]
    }
   ],
   "source": [
    "print('start')\n",
    "relations_df= pd.read_csv('data/relations.csv',iterator=True,delimiter='\\t', names=['day', 'time_ms', 'src', 'dst', 'relation'], chunksize=20000)\n",
    "print('chunks retrieved with succes')\n",
    "pd.concat([chunk[chunk['relation'] == 3] for chunk in relations_df]).to_csv('data/relation_' + str(3) + '.csv')\n",
    "print('relation retrieved with success')"
   ]
  },
  {
   "cell_type": "code",
   "execution_count": 5,
   "metadata": {},
   "outputs": [
    {
     "name": "stdout",
     "output_type": "stream",
     "text": [
      "start\n",
      "chunks retrieved with succes\n",
      "relation retrieved with success\n",
      "start\n",
      "chunks retrieved with succes\n",
      "relation retrieved with success\n",
      "start\n",
      "chunks retrieved with succes\n",
      "relation retrieved with success\n",
      "start\n",
      "chunks retrieved with succes\n",
      "relation retrieved with success\n"
     ]
    }
   ],
   "source": [
    "print('start')\n",
    "relations_df= pd.read_csv('data/relations.csv',iterator=True,delimiter='\\t', names=['day', 'time_ms', 'src', 'dst', 'relation'], chunksize=20000)\n",
    "print('chunks retrieved with succes')\n",
    "pd.concat([chunk[chunk['relation'] == 4] for chunk in relations_df]).to_csv('data/relation_' + str(4) + '.csv')\n",
    "print('relation retrieved with success')\n",
    "print('start')\n",
    "relations_df= pd.read_csv('data/relations.csv',iterator=True,delimiter='\\t', names=['day', 'time_ms', 'src', 'dst', 'relation'], chunksize=20000)\n",
    "print('chunks retrieved with succes')\n",
    "pd.concat([chunk[chunk['relation'] == 5] for chunk in relations_df]).to_csv('data/relation_' + str(5) + '.csv')\n",
    "print('relation retrieved with success')\n",
    "print('start')\n",
    "relations_df= pd.read_csv('data/relations.csv',iterator=True,delimiter='\\t', names=['day', 'time_ms', 'src', 'dst', 'relation'], chunksize=20000)\n",
    "print('chunks retrieved with succes')\n",
    "pd.concat([chunk[chunk['relation'] == 6] for chunk in relations_df]).to_csv('data/relation_' + str(6) + '.csv')\n",
    "print('relation retrieved with success')\n",
    "print('start')\n",
    "relations_df= pd.read_csv('data/relations.csv',iterator=True,delimiter='\\t', names=['day', 'time_ms', 'src', 'dst', 'relation'], chunksize=20000)\n",
    "print('chunks retrieved with succes')\n",
    "pd.concat([chunk[chunk['relation'] == 7] for chunk in relations_df]).to_csv('data/relation_' + str(7) + '.csv')\n",
    "print('relation retrieved with success')"
   ]
  },
  {
   "cell_type": "code",
   "execution_count": null,
   "metadata": {},
   "outputs": [],
   "source": []
  }
 ],
 "metadata": {
  "kernelspec": {
   "display_name": "Python 3",
   "language": "python",
   "name": "python3"
  },
  "language_info": {
   "codemirror_mode": {
    "name": "ipython",
    "version": 3
   },
   "file_extension": ".py",
   "mimetype": "text/x-python",
   "name": "python",
   "nbconvert_exporter": "python",
   "pygments_lexer": "ipython3",
   "version": "3.7.3"
  }
 },
 "nbformat": 4,
 "nbformat_minor": 4
}
