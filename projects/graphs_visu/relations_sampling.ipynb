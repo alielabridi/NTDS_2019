{
 "cells": [
  {
   "cell_type": "code",
   "execution_count": 2,
   "metadata": {},
   "outputs": [],
   "source": [
    "%matplotlib inline\n",
    "\n",
    "import pandas as pd\n",
    "import numpy as np\n",
    "import time\n",
    "import networkx as nx\n",
    "from subsampling import get_samples_from_relation, create_graph, get_samples_from_relation_with_chunks"
   ]
  },
  {
   "cell_type": "code",
   "execution_count": null,
   "metadata": {},
   "outputs": [],
   "source": [
    "DATA_ROOT = 'data/'"
   ]
  },
  {
   "cell_type": "code",
   "execution_count": 2,
   "metadata": {},
   "outputs": [
    {
     "name": "stdout",
     "output_type": "stream",
     "text": [
      "for i = 1\n",
      "number of users acquired: 71544\n"
     ]
    },
    {
     "name": "stderr",
     "output_type": "stream",
     "text": [
      "C:\\Users\\ybouq\\Anaconda3\\lib\\site-packages\\pandas\\core\\indexing.py:376: SettingWithCopyWarning: \n",
      "A value is trying to be set on a copy of a slice from a DataFrame.\n",
      "Try using .loc[row_indexer,col_indexer] = value instead\n",
      "\n",
      "See the caveats in the documentation: http://pandas.pydata.org/pandas-docs/stable/user_guide/indexing.html#returning-a-view-versus-a-copy\n",
      "  self.obj[key] = _infer_fill_value(value)\n",
      "C:\\Users\\ybouq\\Anaconda3\\lib\\site-packages\\pandas\\core\\indexing.py:494: SettingWithCopyWarning: \n",
      "A value is trying to be set on a copy of a slice from a DataFrame.\n",
      "Try using .loc[row_indexer,col_indexer] = value instead\n",
      "\n",
      "See the caveats in the documentation: http://pandas.pydata.org/pandas-docs/stable/user_guide/indexing.html#returning-a-view-versus-a-copy\n",
      "  self.obj[item] = s\n"
     ]
    },
    {
     "name": "stdout",
     "output_type": "stream",
     "text": [
      "samples from relation 1 retrieved succesfully : 11% of spammers\n",
      "graph for relation 1 saved!\n",
      "for i = 2\n",
      "number of users acquired: 86135\n",
      "samples from relation 2 retrieved succesfully : 3% of spammers\n",
      "graph for relation 2 saved!\n",
      "for i = 7\n",
      "number of users acquired: 20890\n",
      "samples from relation 7 retrieved succesfully : 42% of spammers\n",
      "graph for relation 7 saved!\n"
     ]
    }
   ],
   "source": [
    "usersdata = pd.read_csv(DATA_ROOT + 'usersdata.csv', delimiter = '\\t', names = ['userId', 'sex', 'timePassedValidation', 'ageGroup', 'label'])\n",
    "for i in [1,2,7]:\n",
    "    print('for i = {}'.format(i))\n",
    "    users, sub_rel = get_samples_from_relation(DATA_ROOT + 'relation_'+ str(i)+'.csv', 20000)\n",
    "    print('samples from relation {} retrieved succesfully : {}% of spammers'.format(i,100 * len(users[users['label'] == 1]) // len(users)))\n",
    "    create_graph(users, sub_rel, 'graphs/spammers_rel'+str(i)+'.gexf')\n",
    "    print('graph for relation {} saved!'.format(i))\n"
   ]
  },
  {
   "cell_type": "code",
   "execution_count": 3,
   "metadata": {},
   "outputs": [
    {
     "name": "stdout",
     "output_type": "stream",
     "text": [
      "for i = 3\n",
      "preparing the progress bar\n"
     ]
    },
    {
     "data": {
      "application/vnd.jupyter.widget-view+json": {
       "model_id": "3337908504144b8fa593acb69a4d9262",
       "version_major": 2,
       "version_minor": 0
      },
      "text/plain": [
       "IntProgress(value=0, description='Process', max=13938)"
      ]
     },
     "metadata": {},
     "output_type": "display_data"
    },
    {
     "name": "stdout",
     "output_type": "stream",
     "text": [
      "Start sampling\n",
      "number of users acquired: 19\n",
      "number of users acquired: 9777\n",
      "number of users acquired: 20000\n",
      "number of users finally acquired: 20000\n",
      "sub sampling relations:\n",
      "samples from relation 3 retrieved succesfully : 11% of spammers\n",
      "graph for relation 3 saved!\n",
      "for i = 4\n",
      "preparing the progress bar\n"
     ]
    },
    {
     "data": {
      "application/vnd.jupyter.widget-view+json": {
       "model_id": "19317a8f5b714801840f537e2a26a925",
       "version_major": 2,
       "version_minor": 0
      },
      "text/plain": [
       "IntProgress(value=0, description='Process', max=20201)"
      ]
     },
     "metadata": {},
     "output_type": "display_data"
    },
    {
     "name": "stdout",
     "output_type": "stream",
     "text": [
      "Start sampling\n",
      "number of users acquired: 10\n",
      "number of users acquired: 1533\n",
      "number of users acquired: 20108\n",
      "number of users finally acquired: 20108\n",
      "sub sampling relations:\n",
      "samples from relation 4 retrieved succesfully : 23% of spammers\n",
      "graph for relation 4 saved!\n",
      "for i = 5\n",
      "preparing the progress bar\n"
     ]
    },
    {
     "data": {
      "application/vnd.jupyter.widget-view+json": {
       "model_id": "c036b98f143140c3b5ec0931ce87e838",
       "version_major": 2,
       "version_minor": 0
      },
      "text/plain": [
       "IntProgress(value=0, description='Process', max=15088)"
      ]
     },
     "metadata": {},
     "output_type": "display_data"
    },
    {
     "name": "stdout",
     "output_type": "stream",
     "text": [
      "Start sampling\n",
      "number of users acquired: 37\n",
      "number of users acquired: 20184\n",
      "number of users finally acquired: 20184\n",
      "sub sampling relations:\n",
      "samples from relation 5 retrieved succesfully : 4% of spammers\n",
      "graph for relation 5 saved!\n",
      "for i = 6\n",
      "preparing the progress bar\n"
     ]
    },
    {
     "data": {
      "application/vnd.jupyter.widget-view+json": {
       "model_id": "f33331bc948c4a7bbcf05b06d3473b77",
       "version_major": 2,
       "version_minor": 0
      },
      "text/plain": [
       "IntProgress(value=0, description='Process', max=35073)"
      ]
     },
     "metadata": {},
     "output_type": "display_data"
    },
    {
     "name": "stdout",
     "output_type": "stream",
     "text": [
      "Start sampling\n",
      "number of users acquired: 116\n",
      "number of users acquired: 20000\n",
      "number of users finally acquired: 20000\n",
      "sub sampling relations:\n",
      "samples from relation 6 retrieved succesfully : 4% of spammers\n",
      "graph for relation 6 saved!\n"
     ]
    }
   ],
   "source": [
    "for i in [3,4,5,6]:\n",
    "    print('for i = {}'.format(i))\n",
    "    users, sub_rel = get_samples_from_relation_with_chunks(DATA_ROOT + 'relation_'+ str(i)+'.csv', num_of_nodes = 20000)\n",
    "    print('samples from relation {} retrieved succesfully : {}% of spammers'.format(i,100 * len(users[users['label'] == 1]) // len(users)))\n",
    "    create_graph(users, sub_rel, 'graphs/spammers_rel'+str(i)+'.gexf')\n",
    "    print('graph for relation {} saved!'.format(i))"
   ]
  },
  {
   "cell_type": "code",
   "execution_count": 28,
   "metadata": {},
   "outputs": [],
   "source": []
  }
 ],
 "metadata": {
  "kernelspec": {
   "display_name": "Python 3",
   "language": "python",
   "name": "python3"
  },
  "language_info": {
   "codemirror_mode": {
    "name": "ipython",
    "version": 3
   },
   "file_extension": ".py",
   "mimetype": "text/x-python",
   "name": "python",
   "nbconvert_exporter": "python",
   "pygments_lexer": "ipython3",
   "version": "3.7.1"
  }
 },
 "nbformat": 4,
 "nbformat_minor": 4
}
