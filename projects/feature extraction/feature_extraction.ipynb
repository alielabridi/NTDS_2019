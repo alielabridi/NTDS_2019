{
 "cells": [
  {
   "cell_type": "markdown",
   "metadata": {},
   "source": [
    "# Feature extraction from preprocessed data\n",
    "Relevant features are extracted directly from the relations data"
   ]
  },
  {
   "cell_type": "code",
   "execution_count": 2,
   "metadata": {},
   "outputs": [],
   "source": [
    "import numpy as np\n",
    "import pandas as pd\n",
    "import csv\n",
    "from matplotlib import pyplot as plt\n",
    "import time\n",
    "import sys\n",
    "import os\n",
    "import subprocess\n",
    "import datetime\n",
    "import math\n",
    "import timeit\n",
    "\n",
    "def restart_line():\n",
    "    sys.stdout.write('\\r')\n",
    "    sys.stdout.flush()\n",
    "\n",
    "filenames =['relations_extended.csv','relations_red_ext.csv']\n",
    "\n",
    "path = \"/Users/jonasmuller/Local_Folder/Project NTDS/\"\n",
    "file = path + filenames[1]\n",
    "\n",
    "# using dataset without timestamps\n",
    "reducedDataset = True\n",
    "if reducedDataset:\n",
    "    columns=[\"src\", \"dst\",\"relation\"]\n",
    "else:\n",
    "    columns=[\"day\", \"time_ms\", \"src\", \"dst\",\"relation\"]\n",
    "    \n",
    "rel_stat = np.array([[1,0.006714],[2,0.010907],[3,0.162401],[4,0.235368],[5,0.175797],[6,0.408653],[7,0.000160]])\n",
    "\n",
    "entropy = -rel_stat[:,1]*np.log2(rel_stat[:,1])\n",
    "inv_weight = 1/rel_stat[:,1]\n",
    "inv_weight /= sum(inv_weight)\n",
    "weight_dict = dict(zip(rel_stat[:,0], inv_weight))\n",
    "weight_dict_in = dict(zip(rel_stat[:,0]+10, inv_weight))\n",
    "w_min = np.min(inv_weight)"
   ]
  },
  {
   "cell_type": "code",
   "execution_count": 20,
   "metadata": {},
   "outputs": [
    {
     "name": "stdout",
     "output_type": "stream",
     "text": [
      "Number of Chunks: 430\n",
      "Chunk Nr: 429; \t feature shape: (5321960, 6) \t tc: 0.69 sec\n",
      "\n",
      "Execution time 38 min 40.02 sec\n"
     ]
    }
   ],
   "source": [
    "chunksize = 4000000\n",
    "i_chunk = 0\n",
    "L = 1000000000\n",
    "l = 0\n",
    "\n",
    "# select execution mode\n",
    "calc_stat = False\n",
    "debug = False\n",
    "save_features = True\n",
    "save_bidirect_rel = True\n",
    "bidirectionality = True\n",
    "spare_deg_one = False\n",
    "find_unique_neigh = True\n",
    "weights = True\n",
    "\n",
    "# initialize shit\n",
    "carry = pd.DataFrame()\n",
    "df_buffer = pd.DataFrame()\n",
    "features = pd.DataFrame()\n",
    "rel_dist = pd.DataFrame(np.zeros(7),list(range(1,8)),columns=[\"count\"])\n",
    "if save_bidirect_rel:\n",
    "    relations_bidirect = np.zeros((L,2),dtype=np.uint32)\n",
    "t1 = time.time()\n",
    "told = t1\n",
    "n_chunks = np.ceil(1716494198/chunksize).astype(np.uint32)\n",
    "print(f\"Number of Chunks: {n_chunks:}\")\n",
    "t_chunk = np.zeros([n_chunks])\n",
    "\n",
    "for chunk in pd.read_csv(file, chunksize=chunksize, sep = \"\\t\", names=columns):\n",
    "    \n",
    "    # slice chunk at specific src\n",
    "    chunk = carry.append(chunk)\n",
    "    \n",
    "    # remove last source in chunk\n",
    "    last_src = chunk[\"src\"].iloc[-1]\n",
    "    carry = chunk.loc[chunk[\"src\"] == last_src]\n",
    "    chunk = chunk.loc[chunk[\"src\"] != last_src]\n",
    "    \n",
    "    # extract features        \n",
    "    degree_tot = chunk.groupby('src').dst.count()\n",
    "    degree_out = chunk.loc[chunk[\"relation\"] < 10].groupby('src').dst.count()\n",
    "    \n",
    "    \n",
    "    # put aside calculations for degree 1 nodes\n",
    "    if spare_deg_one:\n",
    "        a = np.diff(chunk.src.to_numpy())\n",
    "        a[a > 0] = 1\n",
    "        a = np.convolve(a, [1,1], mode='same')\n",
    "        a[a < 2] = 0\n",
    "        single_deg_ind = np.asarray(np.nonzero(a)).squeeze() + chunk.index[0]\n",
    "\n",
    "        chunk.drop(single_deg_ind)\n",
    "    \n",
    "    # find number of unique neighbors\n",
    "    if find_unique_neigh:\n",
    "        unique_neighbors = chunk.groupby('src').dst.nunique()\n",
    "    \n",
    "    # check bidirectionality\n",
    "    if bidirectionality:\n",
    "        chunk_copy = chunk.copy()\n",
    "        chunk_copy[\"relation\"] = (chunk_copy[\"relation\"] >= 10).astype(int)\n",
    "        bidirect = chunk_copy.groupby(['src','dst']).max() - chunk_copy.groupby(['src','dst']).min()\n",
    "        nr_of_bidirect = bidirect.groupby('src').relation.sum()\n",
    "        if save_bidirect_rel:\n",
    "            bidirect = bidirect.loc[bidirect['relation'] == 1].drop('relation', 1).reset_index()\n",
    "            # remove duplicate relations and self-loops\n",
    "            bidirect = bidirect[np.diff(bidirect.to_numpy()) > 0]\n",
    "    \n",
    "    # weights acording to relation scarcity (then deg in deg out) / number of strong connections per node\n",
    "    if weights:\n",
    "        chunk_copy = chunk.copy()\n",
    "        w_out = chunk_copy.loc[chunk[\"relation\"] < 10].replace({'relation': weight_dict}).groupby('src').relation.sum()\n",
    "        w_in = chunk_copy.loc[chunk[\"relation\"] >= 10].replace({'relation': weight_dict_in}).groupby('src').relation.sum()\n",
    "        w_out = (10*(np.log(w_out)-np.log(w_min))).astype(int)\n",
    "        w_in = (10*(np.log(w_in)-np.log(w_min))).astype(int)\n",
    "            \n",
    "    # relation distribution count\n",
    "    if calc_stat:\n",
    "        values, counts = np.unique(chunk.loc[chunk[\"relation\"] < 10].relation.values, return_counts=True)\n",
    "        rel_dist = rel_dist.add(pd.Series(counts, index=values),axis='index')\n",
    "    \n",
    "    # append degrees\n",
    "    df_buffer = df_buffer[0:0]\n",
    "    df_buffer['deg_tot'] = pd.Series(degree_tot)\n",
    "    df_buffer['deg_out'] = pd.Series(degree_out)\n",
    "    df_buffer['u_neigh'] = pd.Series(unique_neighbors)\n",
    "    df_buffer['n_bidir'] = pd.Series(nr_of_bidirect)\n",
    "    df_buffer['w_out'] = pd.Series(w_out)\n",
    "    df_buffer['w_in'] = pd.Series(w_in)\n",
    "    \n",
    "    df_buffer = df_buffer.fillna(0)\n",
    "    \n",
    "    features = features.append(df_buffer.astype('uint32'))\n",
    "    \n",
    "    if save_bidirect_rel:\n",
    "        l2 = len(bidirect)\n",
    "        relations_bidirect[l:(l+l2),:] = bidirect.to_numpy()\n",
    "        if l2 >= 0:\n",
    "            l += l2+1\n",
    "    \n",
    "    # break for debugging\n",
    "    if debug:\n",
    "        if i_chunk > 1:\n",
    "            break\n",
    "    \n",
    "    # print status\n",
    "    s = (time.time()-told)\n",
    "    told = time.time()\n",
    "    t_chunk[i_chunk] = s\n",
    "\n",
    "    restart_line()\n",
    "    sys.stdout.write(f'Chunk Nr: {i_chunk}; \\t feature shape: {features.shape} \\t tc: {s:.2f} sec')\n",
    "    sys.stdout.flush()\n",
    "    i_chunk += 1\n",
    "\n",
    "if save_bidirect_rel:\n",
    "    relations_bidirect = relations_bidirect[0:(l-1),:]\n",
    "\n",
    "# print relevant key data\n",
    "m = math.floor((time.time()-t1)/60)\n",
    "s = (time.time()-t1)-m*60\n",
    "print(f'\\n\\nExecution time {m} min {s:.2f} sec')\n",
    "\n",
    "# statistics\n",
    "total_relations = np.sum(rel_dist.values)\n",
    "rel_dist = rel_dist.div(total_relations)\n",
    "with open(\"Output.txt\", \"w\") as text_file:\n",
    "    print(f\"Nr of total relations: {total_relations}\\n\", file=text_file)\n",
    "    print(\"Relations Distribution:\\n\", file=text_file)\n",
    "    print(rel_dist, file=text_file)\n",
    "\n",
    "# save features\n",
    "if save_features:\n",
    "    exportName = \"relations_features.csv\"\n",
    "    features.to_csv(exportName, sep = '\\t')\n",
    "    if save_bidirect_rel:\n",
    "        np.savetxt(\"relations_bidirectional.csv\", relations_bidirect, fmt='%i', delimiter=\"\\t\")\n",
    "    "
   ]
  },
  {
   "cell_type": "code",
   "execution_count": 17,
   "metadata": {},
   "outputs": [
    {
     "data": {
      "text/plain": [
       "deg_tot    uint32\n",
       "deg_out    uint32\n",
       "u_neigh    uint32\n",
       "n_bidir    uint32\n",
       "w_out      uint32\n",
       "w_in       uint32\n",
       "dtype: object"
      ]
     },
     "execution_count": 17,
     "metadata": {},
     "output_type": "execute_result"
    }
   ],
   "source": []
  },
  {
   "cell_type": "code",
   "execution_count": 21,
   "metadata": {},
   "outputs": [
    {
     "data": {
      "image/png": "[encoded data removed]",
      "text/plain": [
       "<Figure size 1080x72 with 1 Axes>"
      ]
     },
     "metadata": {
      "needs_background": "light"
     },
     "output_type": "display_data"
    },
    {
     "data": {
      "image/png": "[encoded data removed]",
      "text/plain": [
       "<Figure size 1080x72 with 1 Axes>"
      ]
     },
     "metadata": {
      "needs_background": "light"
     },
     "output_type": "display_data"
    }
   ],
   "source": [
    "# visualize\n",
    "ax = plt.figure(1, figsize=(15, 1))\n",
    "plt.plot(t_chunk);\n",
    "ax = plt.figure(2, figsize=(15, 1))\n",
    "plt.hist(t_chunk, bins=100);"
   ]
  },
  {
   "cell_type": "code",
   "execution_count": null,
   "metadata": {},
   "outputs": [],
   "source": [
    "relations_bidirect.to_csv('relations_bidirectional.csv', sep = '\\t')"
   ]
  },
  {
   "cell_type": "code",
   "execution_count": null,
   "metadata": {},
   "outputs": [],
   "source": [
    "rel_bidir = pd.read_csv('relations_bidirectional.csv', sep = \"\\t\").to_numpy()"
   ]
  },
  {
   "cell_type": "code",
   "execution_count": null,
   "metadata": {},
   "outputs": [],
   "source": [
    "rel_bidir_sub = rel_bidir[::10,:]\n",
    "nodes = np.unique(rel_bidir_sub)\n",
    "\n",
    "# replace node numbers\n"
   ]
  },
  {
   "cell_type": "code",
   "execution_count": null,
   "metadata": {},
   "outputs": [],
   "source": [
    "nodes, counts = np.unique(rel_bidir,return_counts=True)"
   ]
  },
  {
   "cell_type": "code",
   "execution_count": null,
   "metadata": {},
   "outputs": [],
   "source": [
    "A = np.asarray([nodes, counts-1]).T\n",
    "\n",
    "A_sub = A[::10,:]\n",
    "a = len(A_sub)\n",
    "# remove nodes with only one occurence\n",
    "#A = A[A[:,1] > 150,:]\n",
    "print(a)\n",
    "print(len(A))\n",
    "\n",
    "#A[A[:,1] >= 500,1] = 500\n",
    "\n",
    "bins=np.logspace(np.log10(1),np.log10(1000),100)\n",
    "ax = plt.figure(1, figsize=(15, 3))\n",
    "plt.hist(A[:,1],log=True,bins=bins)\n",
    "plt.gca().set_xscale(\"log\")\n",
    "plt.show()\n",
    "\n",
    "print(len(A))\n",
    "bins=np.logspace(np.log10(0.1),np.log10(1000),200)\n",
    "#np.savetxt(\"relations_bidirectional_reduced.csv\", A, fmt='%i', delimiter=\"\\t\")\n",
    "\n",
    "#A_red = rel_bidir[]"
   ]
  },
  {
   "cell_type": "code",
   "execution_count": null,
   "metadata": {},
   "outputs": [],
   "source": []
  }
 ],
 "metadata": {
  "kernelspec": {
   "display_name": "Python 3",
   "language": "python",
   "name": "python3"
  },
  "language_info": {
   "codemirror_mode": {
    "name": "ipython",
    "version": 3
   },
   "file_extension": ".py",
   "mimetype": "text/x-python",
   "name": "python",
   "nbconvert_exporter": "python",
   "pygments_lexer": "ipython3",
   "version": "3.7.3"
  }
 },
 "nbformat": 4,
 "nbformat_minor": 4
}
