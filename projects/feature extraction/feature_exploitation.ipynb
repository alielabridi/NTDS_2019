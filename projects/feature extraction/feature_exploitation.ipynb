{
 "cells": [
  {
   "cell_type": "markdown",
   "metadata": {},
   "source": [
    "# Analysis of extracted features"
   ]
  },
  {
   "cell_type": "code",
   "execution_count": 1,
   "metadata": {},
   "outputs": [],
   "source": [
    "import numpy as np\n",
    "import pandas as pd\n",
    "import csv\n",
    "from matplotlib import pyplot as plt\n",
    "\n",
    "filenames =['usersdata.csv','relations_features.csv']\n",
    "\n",
    "path = \"/Users/jonasmuller/Local_Folder/Project NTDS/\"\n",
    "usersdata = path + filenames[0]\n",
    "file_extracted = path + filenames[1]"
   ]
  },
  {
   "cell_type": "code",
   "execution_count": 2,
   "metadata": {},
   "outputs": [],
   "source": [
    "# load\n",
    "features_given = pd.read_csv(usersdata, sep = \"\\t\", names=[\"userID\", \"gender\", \"timePassedValidation\", \"ageGroup\",\"label\"])\n",
    "features_extracted = pd.read_csv(file_extracted, sep = \"\\t\")\n",
    "features_extracted = features_extracted.rename(columns = {'src':'userID'})"
   ]
  },
  {
   "cell_type": "code",
   "execution_count": 3,
   "metadata": {},
   "outputs": [],
   "source": [
    "# merge dataframes\n",
    "features_tot = pd.DataFrame()\n",
    "features_tot = features_given[['userID','label']].set_index('userID')\n",
    "\n",
    "features_tot = pd.merge(features_tot,features_extracted.set_index('userID'), on='userID', how='outer',sort=True)\n",
    "\n",
    "#features_tot.head(30)"
   ]
  },
  {
   "cell_type": "code",
   "execution_count": 4,
   "metadata": {},
   "outputs": [
    {
     "name": "stdout",
     "output_type": "stream",
     "text": [
      "Number of rows: \t5607447\n",
      "Number of NaN rows: \t285487\n"
     ]
    }
   ],
   "source": [
    "print(f'Number of rows: \\t{features_tot.shape[0]}')\n",
    "print(f'Number of NaN rows: \\t{features_tot.iloc[: , 2].isna().sum()}')"
   ]
  },
  {
   "cell_type": "code",
   "execution_count": 9,
   "metadata": {},
   "outputs": [
    {
     "name": "stdout",
     "output_type": "stream",
     "text": [
      "5270494\n",
      "336953\n"
     ]
    },
    {
     "data": {
      "text/plain": [
       "Text(0.5, 1.0, 'Histogram')"
      ]
     },
     "execution_count": 9,
     "metadata": {},
     "output_type": "execute_result"
    },
    {
     "data": {
      "image/png": "[encoded data removed]",
      "text/plain": [
       "<Figure size 1080x216 with 1 Axes>"
      ]
     },
     "metadata": {
      "needs_background": "light"
     },
     "output_type": "display_data"
    }
   ],
   "source": [
    "col = 'uni_neigh'\n",
    "ax = plt.figure(2, figsize=(15, 3))\n",
    "# Make a separate list for each airline\n",
    "x1 = features_tot.loc[features_tot['label'] == 0][col]\n",
    "x2 = features_tot.loc[features_tot['label'] == 1][col]\n",
    "\n",
    "print(x1.shape[0])\n",
    "print(x2.shape[0])\n",
    "\n",
    "names = ['Non-spammer', 'spammer']\n",
    "         \n",
    "plt.hist([x1, x2], bins = 100, label=names, log=True)\n",
    "\n",
    "# Plot formatting\n",
    "plt.legend()\n",
    "plt.xlabel(col)\n",
    "plt.ylabel('Number of Nodes')\n",
    "plt.title(\"Histogram\")"
   ]
  },
  {
   "cell_type": "code",
   "execution_count": null,
   "metadata": {},
   "outputs": [],
   "source": []
  }
 ],
 "metadata": {
  "kernelspec": {
   "display_name": "Python 3",
   "language": "python",
   "name": "python3"
  },
  "language_info": {
   "codemirror_mode": {
    "name": "ipython",
    "version": 3
   },
   "file_extension": ".py",
   "mimetype": "text/x-python",
   "name": "python",
   "nbconvert_exporter": "python",
   "pygments_lexer": "ipython3",
   "version": "3.7.3"
  }
 },
 "nbformat": 4,
 "nbformat_minor": 4
}
